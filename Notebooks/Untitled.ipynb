{
 "cells": [
  {
   "cell_type": "code",
   "execution_count": 20,
   "id": "peripheral-bikini",
   "metadata": {},
   "outputs": [],
   "source": [
    "dictfunc = {'first':lambda x:x, 'second': lambda x:x**2}"
   ]
  },
  {
   "cell_type": "code",
   "execution_count": 42,
   "id": "retained-easter",
   "metadata": {},
   "outputs": [],
   "source": [
    "def wild_behaviour():\n",
    "    dictfunc['first'] = 'a new thing'"
   ]
  },
  {
   "cell_type": "code",
   "execution_count": 43,
   "id": "prerequisite-medication",
   "metadata": {},
   "outputs": [],
   "source": [
    "wild_behaviour()"
   ]
  },
  {
   "cell_type": "code",
   "execution_count": 44,
   "id": "median-beast",
   "metadata": {},
   "outputs": [
    {
     "data": {
      "text/plain": [
       "{'first': 'a new thing', 'second': <function __main__.<lambda>(x)>}"
      ]
     },
     "execution_count": 44,
     "metadata": {},
     "output_type": "execute_result"
    }
   ],
   "source": [
    "dictfunc"
   ]
  },
  {
   "cell_type": "code",
   "execution_count": null,
   "id": "flush-engineer",
   "metadata": {},
   "outputs": [],
   "source": []
  }
 ],
 "metadata": {
  "kernelspec": {
   "display_name": "Python 3",
   "language": "python",
   "name": "python3"
  },
  "language_info": {
   "codemirror_mode": {
    "name": "ipython",
    "version": 3
   },
   "file_extension": ".py",
   "mimetype": "text/x-python",
   "name": "python",
   "nbconvert_exporter": "python",
   "pygments_lexer": "ipython3",
   "version": "3.8.5"
  }
 },
 "nbformat": 4,
 "nbformat_minor": 5
}
