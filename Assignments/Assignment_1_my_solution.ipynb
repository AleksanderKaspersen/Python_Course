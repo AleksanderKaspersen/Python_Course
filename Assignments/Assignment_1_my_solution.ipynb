{
 "cells": [
  {
   "cell_type": "markdown",
   "metadata": {},
   "source": [
    "## First Assignment"
   ]
  },
  {
   "cell_type": "markdown",
   "metadata": {},
   "source": [
    "#### 1) Apply the appropriate string methods to the **x** variable (as '.upper') to change it exactly to: \"$Dichlorodiphenyltrichloroethane$\"."
   ]
  },
  {
   "cell_type": "code",
   "execution_count": 6,
   "metadata": {},
   "outputs": [],
   "source": [
    "x = \"DiClOrod  IFeNi  lTRicLOr oETaNo  DiChlorod iPHeny lTrichL oroEThaNe\""
   ]
  },
  {
   "cell_type": "code",
   "execution_count": 7,
   "metadata": {
    "scrolled": true
   },
   "outputs": [
    {
     "name": "stdout",
     "output_type": "stream",
     "text": [
      "Diclorodifeniltricloroetanodichlorodiphenyltrichloroethane\n"
     ]
    }
   ],
   "source": [
    "\n",
    "x = x.replace(\" \", \"\")  \n",
    "x = x.capitalize() \n",
    "\n",
    "print(x)"
   ]
  },
  {
   "cell_type": "markdown",
   "metadata": {},
   "source": [
    "#### 2) Assign respectively the values: 'word', 15, 3.14 and 'list' to variables A, B, C and D in a single line of code. Then, print them in that same order on a single line separated by a space, using only one print statement."
   ]
  },
  {
   "cell_type": "code",
   "execution_count": 9,
   "metadata": {},
   "outputs": [
    {
     "name": "stdout",
     "output_type": "stream",
     "text": [
      "word 15 3.14 list\n"
     ]
    }
   ],
   "source": [
    "A, B, C, D = 'word', 15, 3.14, 'list'\n",
    "print(A, B, C, D)"
   ]
  },
  {
   "cell_type": "markdown",
   "metadata": {},
   "source": [
    "#### 3) Use the **input()** function to receive an input in the form **'68.4 1.71'**, that is, two floating point numbers in a line separated by space. Then, assign these numbers to the variables **w** and **h** respectively, which represent an individual's weight and height (hint: take a look at the '.split()' method). With this data, calculate the individual's Body Mass Index (BMI) from the following relationship: \n",
    "    \n",
    "\\begin{equation}\n",
    "BMI = \\dfrac{weight}{height^2}\n",
    "\\end{equation}"
   ]
  },
  {
   "cell_type": "code",
   "execution_count": 13,
   "metadata": {},
   "outputs": [
    {
     "name": "stdout",
     "output_type": "stream",
     "text": [
      "what is your weight and hight? 100 1.70\n",
      "34.60208\n"
     ]
    }
   ],
   "source": [
    "w,h = (input(\"what is your weight and hight? \").split())\n",
    "w= float(w)\n",
    "h=float(h)\n",
    "bmi = w/(h**2)\n",
    "print(round(bmi,5))\n"
   ]
  },
  {
   "cell_type": "markdown",
   "metadata": {},
   "source": [
    "#### This value can also be classified according to ranges of values, following to the table below. Use conditional structures to classify and print the classification assigned to the individual. \n",
    "\n",
    "<center><img src=\"https://healthtravelguide.com/wp-content/uploads/2020/06/Body-mass-index-table.png\" width=\"30%\"><\\center>  \n",
    "\n",
    "\n",
    "(source: https://healthtravelguide.com/bmi-calculator/)"
   ]
  },
  {
   "cell_type": "code",
   "execution_count": 14,
   "metadata": {},
   "outputs": [
    {
     "name": "stdout",
     "output_type": "stream",
     "text": [
      "Obesity class I\n"
     ]
    }
   ],
   "source": [
    "if bmi <= 18.5:\n",
    "    print(\"underweight\")\n",
    "elif bmi <= 24.9:\n",
    "    print(\"normal weight\")\n",
    "elif bmi <= 29.9:\n",
    "    print(\"pre-obesity\")\n",
    "elif bmi <= 34.9:\n",
    "    print(\"Obesity class I\")\n",
    "elif bmi <= 39.9:\n",
    "    print(\"Obesity class II\")\n",
    "else:\n",
    "    print(\"Obesity class III\")"
   ]
  },
  {
   "cell_type": "markdown",
   "metadata": {},
   "source": [
    "#### 4) Receive an integer as an input and, using a loop, calculate the factorial of this number, that is, the product of all the integers from one to the number provided. "
   ]
  },
  {
   "cell_type": "code",
   "execution_count": 23,
   "metadata": {},
   "outputs": [
    {
     "name": "stdout",
     "output_type": "stream",
     "text": [
      "write the number you want to get det factorial of 5\n",
      "120\n"
     ]
    }
   ],
   "source": [
    "def factorial(number):\n",
    "    n = 1\n",
    "    for i in range(number):\n",
    "        n *=i+1\n",
    "    return n \n",
    "print(factorial(int(input(\"write the number you want to get det factorial of \"))))"
   ]
  },
  {
   "cell_type": "markdown",
   "metadata": {},
   "source": [
    "#### 5) Using a while loop and the input function, read an indefinite number of integers until the number read is -1. Present the sum of all these numbers in the form of a print, excluding the -1 read at the end. "
   ]
  },
  {
   "cell_type": "code",
   "execution_count": 29,
   "metadata": {},
   "outputs": [
    {
     "name": "stdout",
     "output_type": "stream",
     "text": [
      "Enter a number: 2\n",
      "Enter a number: -2\n",
      "Enter a number: -1\n",
      "Sum of numbers:  0\n"
     ]
    }
   ],
   "source": [
    "def sum_of_numbers():\n",
    "    \n",
    "    while True:\n",
    "        number = int(input(\"Enter a number: \"))\n",
    "        if number == -1:\n",
    "            break\n",
    "        number += number\n",
    "    print(\"Sum of numbers: \", number+1)\n",
    "\n",
    "\n",
    "sum_of_numbers()"
   ]
  },
  {
   "cell_type": "markdown",
   "metadata": {},
   "source": [
    "#### 6) Read the **first name** of an employee, his **amount of hours worked** and the **salary per hour** in a single line separated by commas. Next, calculate the **total salary** for this employee and show it to two decimal places."
   ]
  },
  {
   "cell_type": "code",
   "execution_count": 35,
   "metadata": {},
   "outputs": [
    {
     "name": "stdout",
     "output_type": "stream",
     "text": [
      "Insert name, amount of hours worked and salary per hour, separated by commas: aleks,12,45\n",
      "540.0\n"
     ]
    }
   ],
   "source": [
    "name, hours, salary_per_hour = input(\"Insert name, amount of hours worked and salary per hour, separated by commas: \").split(\",\")\n",
    "total_salary = float(hours)*float(salary_per_hour)\n",
    "print(total_salary)\n"
   ]
  },
  {
   "cell_type": "markdown",
   "metadata": {},
   "source": [
    "#### 7) Read three floating point values **A**, **B** and **C** respectively. Then calculate itens a, b, c, d and e: "
   ]
  },
  {
   "cell_type": "code",
   "execution_count": 36,
   "metadata": {},
   "outputs": [
    {
     "name": "stdout",
     "output_type": "stream",
     "text": [
      "input a three numbers 2 3 4 \n"
     ]
    }
   ],
   "source": [
    "A, B, C = input(\"input a three numbers \").split()\n",
    "A = float(A)\n",
    "B = float(B)\n",
    "C = float(C)\n",
    "pi = 3.14159"
   ]
  },
  {
   "cell_type": "markdown",
   "metadata": {},
   "source": [
    "    a) the area of the triangle rectangle with A as the base and C as the height."
   ]
  },
  {
   "cell_type": "code",
   "execution_count": 20,
   "metadata": {},
   "outputs": [
    {
     "name": "stdout",
     "output_type": "stream",
     "text": [
      "Triangle:  10.35\n"
     ]
    }
   ],
   "source": [
    "triangle = (A*C)/2\n",
    "print('Triangle: ', triangle )"
   ]
  },
  {
   "cell_type": "markdown",
   "metadata": {},
   "source": [
    "    b) the area of the circle of radius C. (pi = 3.14159) "
   ]
  },
  {
   "cell_type": "code",
   "execution_count": 22,
   "metadata": {},
   "outputs": [
    {
     "name": "stdout",
     "output_type": "stream",
     "text": [
      "circle:  66.47604439999999\n"
     ]
    }
   ],
   "source": [
    "circle = pi*(C**2)\n",
    "print('circle: ', circle)"
   ]
  },
  {
   "cell_type": "markdown",
   "metadata": {},
   "source": [
    "    c) the area of the trapezoid that has A and B for bases and C for height. "
   ]
  },
  {
   "cell_type": "code",
   "execution_count": 37,
   "metadata": {},
   "outputs": [
    {
     "name": "stdout",
     "output_type": "stream",
     "text": [
      "trapezoid:  10.0\n"
     ]
    }
   ],
   "source": [
    "trapezoid = (A+B)*C/2\n",
    "print('trapezoid: ', trapezoid)"
   ]
  },
  {
   "cell_type": "markdown",
   "metadata": {},
   "source": [
    "    d) the area of the square that has side B. "
   ]
  },
  {
   "cell_type": "code",
   "execution_count": 24,
   "metadata": {},
   "outputs": [
    {
     "name": "stdout",
     "output_type": "stream",
     "text": [
      "Squere:  44.89\n"
     ]
    }
   ],
   "source": [
    "square = B**2\n",
    "print('Squere: ', square)"
   ]
  },
  {
   "cell_type": "markdown",
   "metadata": {},
   "source": [
    "    e) the area of the rectangle that has sides A and B. "
   ]
  },
  {
   "cell_type": "code",
   "execution_count": 38,
   "metadata": {},
   "outputs": [
    {
     "name": "stdout",
     "output_type": "stream",
     "text": [
      "rectangle:  6.0\n"
     ]
    }
   ],
   "source": [
    "rectangle = A*B\n",
    "print('rectangle: ', rectangle)"
   ]
  },
  {
   "cell_type": "markdown",
   "metadata": {},
   "source": [
    "#### 8) Read **the values a, b and c** and calculate the **roots of the second degree equation** $ax^{2}+bx+c=0$ using [this formula](https://en.wikipedia.org/wiki/Quadratic_equation). If it is not possible to calculate the roots, display the message **“There are no real roots”**. "
   ]
  },
  {
   "cell_type": "code",
   "execution_count": 42,
   "metadata": {},
   "outputs": [
    {
     "name": "stdout",
     "output_type": "stream",
     "text": [
      "input a numbaer for a 3\n",
      "input a number for b and c3,4\n",
      "No real roots\n"
     ]
    }
   ],
   "source": [
    "a = int(input(\"input a numbaer for a \"))\n",
    "while a == 0:\n",
    "    print('a can\\'t be zero')\n",
    "    a = int(input(\"input a numbaer for a \"))\n",
    "\n",
    "b, c =[float(i) for i in input('input a number for b and c').split(',')]\n",
    "\n",
    "d = b**2 - 4*a*c\n",
    "\n",
    "if d < 0:\n",
    "    print(\"No real roots\")\n",
    "else:\n",
    "    print(\"x1 =\", (-b + d**0.5)/(2*a), \", x2 =\", (-b - d**0.5)/(2*a))"
   ]
  },
  {
   "cell_type": "markdown",
   "metadata": {},
   "source": [
    "#### 9) Read four floating point numerical values corresponding to the coordinates of two geographical coordinates in the cartesian plane. Each point will come in a line with its coordinates separated by space. Then calculate and show the distance between these two points. \n",
    "\n",
    "(obs: $d=\\sqrt{(x_1-x_2)^2 + (y_1-y_2)^2}$)"
   ]
  },
  {
   "cell_type": "code",
   "execution_count": 41,
   "metadata": {},
   "outputs": [
    {
     "name": "stdout",
     "output_type": "stream",
     "text": [
      "insert coordinates x1, y1, x2, y2 1 2 4 5\n",
      "distance = 4.242640687119285\n"
     ]
    }
   ],
   "source": [
    "x1, y1, x2, y2 = [float(i) for i in input(\"insert coordinates x1, y1, x2, y2 \").split()]\n",
    "\n",
    "distance = ((x2 - x1)**2 + (y2 - y1)**2)**0.5\n",
    "\n",
    "print('distance =', distance)"
   ]
  },
  {
   "cell_type": "markdown",
   "metadata": {},
   "source": [
    "#### 10) Read **two floating point numbers** on a line that represent **coordinates of a cartesian point**. With this, use **conditional structures** to determine if you are at the origin, printing the message **'origin'**; in one of the axes, printing **'x axis'** or **'y axis'**; or in one of the four quadrants, printing **'q1'**, **'q2**', **'q3'** or **'q4'**. "
   ]
  },
  {
   "cell_type": "code",
   "execution_count": 44,
   "metadata": {},
   "outputs": [
    {
     "name": "stdout",
     "output_type": "stream",
     "text": [
      "type in numbers for x and y 3 4\n",
      "q1\n"
     ]
    }
   ],
   "source": [
    "x, y = [float(x) for x in input(\"type in numbers for x and y \").split()]\n",
    "\n",
    "    \n",
    "if x == 0 and y == 0:\n",
    "    print('origin')\n",
    "elif x == 0:\n",
    "    print('y axis')\n",
    "elif y == 0:\n",
    "\tprint('x axis')\n",
    "elif x > 0 and y > 0:\n",
    "    print('q1')\n",
    "elif x < 0 and y > 0:\n",
    "    print('q2')\n",
    "elif x < 0 and y < 0:\n",
    "    print('q3')\n",
    "else:\n",
    "    print('q4')"
   ]
  },
  {
   "cell_type": "markdown",
   "metadata": {},
   "source": [
    "#### 11) Read an integer that represents a phone code for international dialing.  \n",
    "#### Then, inform to which country the code belongs to, considering the generated table below:\n",
    "(You just need to consider the first 10 entries)  "
   ]
  },
  {
   "cell_type": "code",
   "execution_count": 46,
   "metadata": {},
   "outputs": [
    {
     "name": "stdout",
     "output_type": "stream",
     "text": [
      "Austria\n"
     ]
    }
   ],
   "source": [
    "import pandas as pd\n",
    "\n",
    "df = pd.read_html('https://en.wikipedia.org/wiki/Telephone_numbers_in_Europe')[1]\n",
    "df = df.iloc[:,:2]\n",
    "df.head(20)\n",
    "\n",
    "\n",
    "def country(countrycode):\n",
    "    for i in range(len(df.iloc[:])):\n",
    "        if str(countrycode) == df.iloc[i,1]:\n",
    "            return(df.iloc[i,0])\n",
    "    else:\n",
    "        print(\"this is not a landcode\")\n",
    "print(country(43))"
   ]
  },
  {
   "cell_type": "markdown",
   "metadata": {},
   "source": [
    "#### 12) Write a piece of code that reads 6 numbers in a row. Next, show the number of positive values entered. On the next line, print the average of the values to one decimal place. "
   ]
  },
  {
   "cell_type": "code",
   "execution_count": 61,
   "metadata": {},
   "outputs": [
    {
     "name": "stdout",
     "output_type": "stream",
     "text": [
      "type in six numbers 1,2,3,4,5,6\n",
      "The number of positive values is:  6 \n",
      " The avrage value is: 3.5\n"
     ]
    }
   ],
   "source": [
    "number = [float(x) for x in input('type in six numbers ').split(',')]\n",
    "\n",
    "sum_, positive=0, 0\n",
    "\n",
    "for i in number:\n",
    "    sum_ += i\n",
    "    if i >0:\n",
    "        positive += 1\n",
    "print('The number of positive values is: ', positive, '\\n', 'The avrage value is:', sum_/6)\n",
    "    "
   ]
  },
  {
   "cell_type": "markdown",
   "metadata": {},
   "source": [
    "#### 13) Read an integer **N**. Then print the **square of each of the even values**, from 1 to N, including N, if applicable, arranged one per line. "
   ]
  },
  {
   "cell_type": "code",
   "execution_count": 47,
   "metadata": {},
   "outputs": [
    {
     "name": "stdout",
     "output_type": "stream",
     "text": [
      "input a number8\n",
      "4\n",
      "16\n",
      "36\n",
      "64\n"
     ]
    }
   ],
   "source": [
    "a = int(input(\"input a number\"))\n",
    "for i in range(1,a+1):\n",
    "    if i%2 ==0:\n",
    "        print(i**2)"
   ]
  },
  {
   "cell_type": "markdown",
   "metadata": {},
   "source": [
    "#### 14) Using **input()**, read an integer and print its classification as **'even / odd'** and **'positive / negative'** . The two classes for the number must be printed on the same line separated by a space. In the case of zero, print only **'null'**. "
   ]
  },
  {
   "cell_type": "code",
   "execution_count": 1,
   "metadata": {
    "scrolled": true
   },
   "outputs": [
    {
     "name": "stdout",
     "output_type": "stream",
     "text": [
      "enter a number -9\n",
      "negative odd\n"
     ]
    }
   ],
   "source": [
    "number = int(input(\"enter a number \"))\n",
    "even = \"\"\n",
    "positive = \"\"\n",
    "\n",
    "if number == 0:\n",
    "    print(\"null\")\n",
    "    \n",
    "elif number%2==0:\n",
    "    even = 'even'\n",
    "else: \n",
    "    even = 'odd'\n",
    "\n",
    "if number < 0:\n",
    "    positive = 'negative'\n",
    "else: \n",
    "    posisitve = 'positive'\n",
    "\n",
    "print(positive, even)\n",
    "    \n"
   ]
  },
  {
   "cell_type": "markdown",
   "metadata": {},
   "source": [
    "## Challenge\n",
    "#### 15) Ordering problems are recurrent in the history of programming. Over time, several algorithms have been developed to fulfill this function. The simplest of these algorithms is the [**Bubble Sort**](https://en.wikipedia.org/wiki/Bubble_sort), which is based on comparisons of elements two by two in a loop of passes through the elements. Your mission, if you decide to accept it, will be to input six whole numbers ramdonly ordered. Then implement the **Bubble Sort** principle to order these six numbers **using only loops and conditionals**.  \n",
    "#### At the end, print the six numbers in ascending order on a single line separated by spaces. "
   ]
  },
  {
   "cell_type": "code",
   "execution_count": 95,
   "metadata": {},
   "outputs": [
    {
     "name": "stdout",
     "output_type": "stream",
     "text": [
      "Input six numbers: 1,3,4,2,1,5,4,32,6\n",
      "[1, 1, 2, 3, 4, 4, 5, 6, 32]\n"
     ]
    }
   ],
   "source": [
    "number = [int(x) for x in input('Input six numbers: ').split(',')]\n",
    "for i in range(len(number) - 1):\n",
    "        for j in range(len(number) - 1 - i):\n",
    "            if number[j] > number[j + 1]:\n",
    "                number[j], number[j + 1] = number[j + 1], number[j]\n",
    "print(numbers)"
   ]
  },
  {
   "cell_type": "code",
   "execution_count": null,
   "metadata": {},
   "outputs": [],
   "source": []
  }
 ],
 "metadata": {
  "kernelspec": {
   "display_name": "Python 3",
   "language": "python",
   "name": "python3"
  },
  "language_info": {
   "codemirror_mode": {
    "name": "ipython",
    "version": 3
   },
   "file_extension": ".py",
   "mimetype": "text/x-python",
   "name": "python",
   "nbconvert_exporter": "python",
   "pygments_lexer": "ipython3",
   "version": "3.8.8"
  }
 },
 "nbformat": 4,
 "nbformat_minor": 4
}
